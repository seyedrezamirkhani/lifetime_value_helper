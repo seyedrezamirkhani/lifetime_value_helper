{
 "cells": [
  {
   "cell_type": "markdown",
   "id": "7cbfe746-f858-4686-8fd5-a91b0b6f2abc",
   "metadata": {},
   "source": [
    "This notebooks builds a simple DNN model with a numeric array as input"
   ]
  },
  {
   "cell_type": "code",
   "execution_count": 1,
   "id": "02536404-3c53-4cfd-8f17-b80dd2a02d48",
   "metadata": {},
   "outputs": [
    {
     "name": "stderr",
     "output_type": "stream",
     "text": [
      "2024-11-27 03:42:17.662124: I tensorflow/core/util/port.cc:153] oneDNN custom operations are on. You may see slightly different numerical results due to floating-point round-off errors from different computation orders. To turn them off, set the environment variable `TF_ENABLE_ONEDNN_OPTS=0`.\n",
      "2024-11-27 03:42:17.676277: E external/local_xla/xla/stream_executor/cuda/cuda_fft.cc:477] Unable to register cuFFT factory: Attempting to register factory for plugin cuFFT when one has already been registered\n",
      "WARNING: All log messages before absl::InitializeLog() is called are written to STDERR\n",
      "E0000 00:00:1732678937.693548   23557 cuda_dnn.cc:8310] Unable to register cuDNN factory: Attempting to register factory for plugin cuDNN when one has already been registered\n",
      "E0000 00:00:1732678937.698903   23557 cuda_blas.cc:1418] Unable to register cuBLAS factory: Attempting to register factory for plugin cuBLAS when one has already been registered\n",
      "2024-11-27 03:42:17.715953: I tensorflow/core/platform/cpu_feature_guard.cc:210] This TensorFlow binary is optimized to use available CPU instructions in performance-critical operations.\n",
      "To enable the following instructions: AVX2 AVX512F AVX512_VNNI FMA, in other operations, rebuild TensorFlow with the appropriate compiler flags.\n",
      "I0000 00:00:1732678939.640152   23557 gpu_device.cc:2022] Created device /job:localhost/replica:0/task:0/device:GPU:0 with 21958 MB memory:  -> device: 0, name: NVIDIA RTX A5000, pci bus id: 0000:73:00.0, compute capability: 8.6\n"
     ]
    }
   ],
   "source": [
    "from tensorflow.keras.models import Model\n",
    "from tensorflow.keras.layers import Input, Dense, Embedding, Flatten, Concatenate\n",
    "\n",
    "NO_NUMERIC_FEATURES = 5\n",
    "output_units = 3\n",
    "# Create inputs for numerical features\n",
    "numeric_inputs = Input(shape=(NO_NUMERIC_FEATURES,), name='numeric')\n",
    "\n",
    "# Dense Layers\n",
    "dense_1 = Dense(128, activation='relu')(numeric_inputs)\n",
    "dense_2 = Dense(128, activation='relu')(dense_1)\n",
    "dense_3 = Dense(64, activation='relu')(dense_2)\n",
    "dense_4 = Dense(64, activation='relu')(dense_3)\n",
    "output = Dense(output_units, activation='linear')(dense_4)\n",
    "\n",
    "# Model\n",
    "model = Model(inputs=numeric_inputs, outputs=output)\n",
    "\n",
    "# Compile the model\n",
    "model.compile(optimizer='adam', loss='mse', metrics=['mae'])"
   ]
  },
  {
   "cell_type": "code",
   "execution_count": 2,
   "id": "488b89aa-8405-4627-94ef-be243c6836e8",
   "metadata": {},
   "outputs": [],
   "source": [
    "X_numeric = [[0.488, 0.793, 0.760, 0.134, 0.218],\n",
    " [0.134, 0.830, 0.793, 0.198, 0.727],\n",
    " [0.140, 0.033, 0.595, 0.786, 0.829],\n",
    " [0.972, 0.630, 0.720, 0.897, 0.018],\n",
    " [0.407, 0.970, 0.489, 0.696, 0.016]]\n",
    "\n"
   ]
  },
  {
   "cell_type": "code",
   "execution_count": 3,
   "id": "3c90ef03-4c23-4b0f-a2dd-9cce2648b39e",
   "metadata": {},
   "outputs": [],
   "source": [
    "Y_target = [[2.017, 1.715, 1.794],\n",
    " [2.051, 1.789, 1.734],\n",
    " [2.035, 1.941, 1.543],\n",
    " [2.516, 2.576, 2.098],\n",
    " [2.162, 1.819, 1.692]]\n"
   ]
  },
  {
   "cell_type": "code",
   "execution_count": 4,
   "id": "ff9d1420-7dde-4ccc-ab46-d99161d1bb89",
   "metadata": {},
   "outputs": [],
   "source": [
    "import numpy as np\n",
    "X_numeric = np.array(X_numeric)\n",
    "Y_target = np.array(Y_target)"
   ]
  },
  {
   "cell_type": "code",
   "execution_count": 5,
   "id": "7d455820-12aa-4efb-9633-6ba210c5e4ba",
   "metadata": {},
   "outputs": [
    {
     "name": "stdout",
     "output_type": "stream",
     "text": [
      "Epoch 1/10\n"
     ]
    },
    {
     "name": "stderr",
     "output_type": "stream",
     "text": [
      "WARNING: All log messages before absl::InitializeLog() is called are written to STDERR\n",
      "I0000 00:00:1732678941.537856   23712 service.cc:148] XLA service 0x746d80017940 initialized for platform CUDA (this does not guarantee that XLA will be used). Devices:\n",
      "I0000 00:00:1732678941.537882   23712 service.cc:156]   StreamExecutor device (0): NVIDIA RTX A5000, Compute Capability 8.6\n",
      "2024-11-27 03:42:21.565767: I tensorflow/compiler/mlir/tensorflow/utils/dump_mlir_util.cc:268] disabling MLIR crash reproducer, set env var `MLIR_CRASH_REPRODUCER_DIRECTORY` to enable.\n",
      "I0000 00:00:1732678941.685356   23712 cuda_dnn.cc:529] Loaded cuDNN version 90300\n",
      "2024-11-27 03:42:21.735108: W external/local_xla/xla/service/gpu/nvptx_compiler.cc:930] The NVIDIA driver's CUDA version is 12.4 which is older than the PTX compiler version 12.5.82. Because the driver is older than the PTX compiler version, XLA is disabling parallel compilation, which may slow down compilation. You should update your NVIDIA driver or use the NVIDIA-provided CUDA forward compatibility packages.\n"
     ]
    },
    {
     "name": "stdout",
     "output_type": "stream",
     "text": [
      "\u001b[1m1/1\u001b[0m \u001b[32m━━━━━━━━━━━━━━━━━━━━\u001b[0m\u001b[37m\u001b[0m \u001b[1m0s\u001b[0m 3s/step - loss: 4.0029 - mae: 1.9814"
     ]
    },
    {
     "name": "stderr",
     "output_type": "stream",
     "text": [
      "I0000 00:00:1732678943.329365   23712 device_compiler.h:188] Compiled cluster using XLA!  This line is logged at most once for the lifetime of the process.\n"
     ]
    },
    {
     "name": "stdout",
     "output_type": "stream",
     "text": [
      "\u001b[1m1/1\u001b[0m \u001b[32m━━━━━━━━━━━━━━━━━━━━\u001b[0m\u001b[37m\u001b[0m \u001b[1m3s\u001b[0m 3s/step - loss: 4.0029 - mae: 1.9814 - val_loss: 3.4861 - val_mae: 1.8609\n",
      "Epoch 2/10\n",
      "\u001b[1m1/1\u001b[0m \u001b[32m━━━━━━━━━━━━━━━━━━━━\u001b[0m\u001b[37m\u001b[0m \u001b[1m0s\u001b[0m 44ms/step - loss: 3.8686 - mae: 1.9474 - val_loss: 3.3786 - val_mae: 1.8320\n",
      "Epoch 3/10\n",
      "\u001b[1m1/1\u001b[0m \u001b[32m━━━━━━━━━━━━━━━━━━━━\u001b[0m\u001b[37m\u001b[0m \u001b[1m0s\u001b[0m 42ms/step - loss: 3.7421 - mae: 1.9155 - val_loss: 3.2651 - val_mae: 1.8013\n",
      "Epoch 4/10\n",
      "\u001b[1m1/1\u001b[0m \u001b[32m━━━━━━━━━━━━━━━━━━━━\u001b[0m\u001b[37m\u001b[0m \u001b[1m0s\u001b[0m 42ms/step - loss: 3.6141 - mae: 1.8828 - val_loss: 3.1452 - val_mae: 1.7683\n",
      "Epoch 5/10\n",
      "\u001b[1m1/1\u001b[0m \u001b[32m━━━━━━━━━━━━━━━━━━━━\u001b[0m\u001b[37m\u001b[0m \u001b[1m0s\u001b[0m 43ms/step - loss: 3.4837 - mae: 1.8488 - val_loss: 3.0263 - val_mae: 1.7352\n",
      "Epoch 6/10\n",
      "\u001b[1m1/1\u001b[0m \u001b[32m━━━━━━━━━━━━━━━━━━━━\u001b[0m\u001b[37m\u001b[0m \u001b[1m0s\u001b[0m 42ms/step - loss: 3.3501 - mae: 1.8131 - val_loss: 2.8957 - val_mae: 1.6980\n",
      "Epoch 7/10\n",
      "\u001b[1m1/1\u001b[0m \u001b[32m━━━━━━━━━━━━━━━━━━━━\u001b[0m\u001b[37m\u001b[0m \u001b[1m0s\u001b[0m 43ms/step - loss: 3.2030 - mae: 1.7728 - val_loss: 2.7399 - val_mae: 1.6524\n",
      "Epoch 8/10\n",
      "\u001b[1m1/1\u001b[0m \u001b[32m━━━━━━━━━━━━━━━━━━━━\u001b[0m\u001b[37m\u001b[0m \u001b[1m0s\u001b[0m 41ms/step - loss: 3.0374 - mae: 1.7262 - val_loss: 2.5739 - val_mae: 1.6022\n",
      "Epoch 9/10\n",
      "\u001b[1m1/1\u001b[0m \u001b[32m━━━━━━━━━━━━━━━━━━━━\u001b[0m\u001b[37m\u001b[0m \u001b[1m0s\u001b[0m 43ms/step - loss: 2.8556 - mae: 1.6734 - val_loss: 2.3911 - val_mae: 1.5449\n",
      "Epoch 10/10\n",
      "\u001b[1m1/1\u001b[0m \u001b[32m━━━━━━━━━━━━━━━━━━━━\u001b[0m\u001b[37m\u001b[0m \u001b[1m0s\u001b[0m 41ms/step - loss: 2.6593 - mae: 1.6143 - val_loss: 2.1915 - val_mae: 1.4795\n"
     ]
    },
    {
     "data": {
      "text/plain": [
       "<keras.src.callbacks.history.History at 0x746fabf22570>"
      ]
     },
     "execution_count": 5,
     "metadata": {},
     "output_type": "execute_result"
    }
   ],
   "source": [
    "model.fit(X_numeric, Y_target, epochs=10, batch_size=32, validation_split=0.2)"
   ]
  },
  {
   "cell_type": "code",
   "execution_count": null,
   "id": "5e0faa1e-7240-4e94-851f-bf27eef5cf6b",
   "metadata": {},
   "outputs": [],
   "source": []
  }
 ],
 "metadata": {
  "kernelspec": {
   "display_name": "Python 3 (ipykernel)",
   "language": "python",
   "name": "python3"
  },
  "language_info": {
   "codemirror_mode": {
    "name": "ipython",
    "version": 3
   },
   "file_extension": ".py",
   "mimetype": "text/x-python",
   "name": "python",
   "nbconvert_exporter": "python",
   "pygments_lexer": "ipython3",
   "version": "3.12.7"
  }
 },
 "nbformat": 4,
 "nbformat_minor": 5
}
